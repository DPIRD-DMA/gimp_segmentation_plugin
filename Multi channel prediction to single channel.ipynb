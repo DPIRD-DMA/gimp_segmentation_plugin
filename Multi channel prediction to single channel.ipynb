{
 "cells": [
  {
   "cell_type": "code",
   "execution_count": 4,
   "id": "6c5ee7a3",
   "metadata": {},
   "outputs": [],
   "source": [
    "import os\n",
    "import glob\n",
    "import numpy as np\n",
    "import rasterio\n",
    "from tqdm.auto import tqdm"
   ]
  },
  {
   "cell_type": "code",
   "execution_count": 2,
   "id": "8525dc1e",
   "metadata": {},
   "outputs": [
    {
     "data": {
      "text/plain": [
       "4"
      ]
     },
     "execution_count": 2,
     "metadata": {},
     "output_type": "execute_result"
    }
   ],
   "source": [
    "folder = '/home/nick/Documents/Work code/gimp_segmentation_plugin/sample data/model output'\n",
    "output_folder = '/home/nick/Documents/Work code/gimp_segmentation_plugin/sample data/mask'\n",
    "files = glob.glob(folder+'/*')\n",
    "len(files)"
   ]
  },
  {
   "cell_type": "code",
   "execution_count": 15,
   "id": "98a93d7a",
   "metadata": {},
   "outputs": [
    {
     "data": {
      "application/vnd.jupyter.widget-view+json": {
       "model_id": "2f5140cbefb144ecb3f02f4bb30d59f0",
       "version_major": 2,
       "version_minor": 0
      },
      "text/plain": [
       "  0%|          | 0/4 [00:00<?, ?it/s]"
      ]
     },
     "metadata": {},
     "output_type": "display_data"
    }
   ],
   "source": [
    "for file in tqdm(files):\n",
    "    file_name = os.path.basename(file)\n",
    "    save_path = os.path.join(output_folder,file_name)\n",
    "    src = rasterio.open(file)\n",
    "    meta_copy = src.meta\n",
    "    array = src.read()\n",
    "    one_band = np.argmax(array,axis=0)\n",
    "    one_band_exp = np.expand_dims(one_band,axis=0).astype('uint8')\n",
    "    meta_copy['count'] = 1\n",
    "    meta_copy['dtype'] = 'uint8'\n",
    "    with rasterio.open(save_path, 'w', **meta_copy) as dst:\n",
    "            dst.write(one_band_exp)\n",
    "    \n",
    "#     break\n",
    "    "
   ]
  }
 ],
 "metadata": {
  "kernelspec": {
   "display_name": "Python 3",
   "language": "python",
   "name": "python3"
  },
  "language_info": {
   "codemirror_mode": {
    "name": "ipython",
    "version": 3
   },
   "file_extension": ".py",
   "mimetype": "text/x-python",
   "name": "python",
   "nbconvert_exporter": "python",
   "pygments_lexer": "ipython3",
   "version": "3.8.8"
  }
 },
 "nbformat": 4,
 "nbformat_minor": 5
}
