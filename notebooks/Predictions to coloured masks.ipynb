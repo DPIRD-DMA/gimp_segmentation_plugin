{
 "cells": [
  {
   "cell_type": "code",
   "execution_count": 12,
   "id": "6c5ee7a3",
   "metadata": {},
   "outputs": [],
   "source": [
    "import os\n",
    "import glob\n",
    "import numpy as np\n",
    "import rasterio\n",
    "from tqdm.auto import tqdm\n",
    "from pathlib import Path\n",
    "from PIL import ImageColor\n",
    "from skimage import io"
   ]
  },
  {
   "cell_type": "code",
   "execution_count": 13,
   "id": "8525dc1e",
   "metadata": {},
   "outputs": [
    {
     "name": "stdout",
     "output_type": "stream",
     "text": [
      "True\n"
     ]
    },
    {
     "data": {
      "text/plain": [
       "21"
      ]
     },
     "execution_count": 13,
     "metadata": {},
     "output_type": "execute_result"
    }
   ],
   "source": [
    "base_dir = '/home/nick/Documents/Work code/gimp_segmentation_plugin/sample data'\n",
    "# this is the raw multi channel/band output from your model\n",
    "model_output_folder = 'model output'\n",
    "image_dir = os.path.join(base_dir,model_output_folder)\n",
    "print(os.path.isdir(image_dir))\n",
    "\n",
    "# this folder will contain single band mask files\n",
    "mask_folder = 'mask'\n",
    "mask_dir = os.path.join(base_dir,mask_folder)\n",
    "Path(mask_dir).mkdir(parents=True, exist_ok=True)\n",
    "\n",
    "# this folder will contain full colour mask files\n",
    "full_colour_mask_folder = 'colour mask'\n",
    "colour_mask_dir = os.path.join(base_dir,full_colour_mask_folder)\n",
    "Path(colour_mask_dir).mkdir(parents=True, exist_ok=True)\n",
    "\n",
    "files = glob.glob(image_dir+'/*')\n",
    "len(files)"
   ]
  },
  {
   "cell_type": "code",
   "execution_count": 14,
   "id": "98a93d7a",
   "metadata": {},
   "outputs": [
    {
     "data": {
      "application/vnd.jupyter.widget-view+json": {
       "model_id": "9fcbd8bf28664b84a327f6297c65031e",
       "version_major": 2,
       "version_minor": 0
      },
      "text/plain": [
       "  0%|          | 0/21 [00:00<?, ?it/s]"
      ]
     },
     "metadata": {},
     "output_type": "display_data"
    }
   ],
   "source": [
    "for file in tqdm(files):\n",
    "#     make save path\n",
    "    file_name = os.path.basename(file)\n",
    "    save_path = os.path.join(mask_dir,file_name)\n",
    "#     open mask with rasterio\n",
    "    src = rasterio.open(file)\n",
    "#     grab a copy of the metadata\n",
    "    meta_copy = src.meta\n",
    "#     grab array\n",
    "    array = src.read()\n",
    "#     get the layer index for the highest value for each pixel\n",
    "    one_band = np.argmax(array,axis=0)\n",
    "#     expand bands for rasterio\n",
    "    one_band_exp = np.expand_dims(one_band,axis=0).astype('uint8')\n",
    "#     edit metadata\n",
    "    meta_copy['count'] = 1\n",
    "    meta_copy['dtype'] = 'uint8'\n",
    "#     save file out\n",
    "    with rasterio.open(save_path, 'w', **meta_copy) as dst:\n",
    "            dst.write(one_band_exp)\n",
    "    \n",
    "    "
   ]
  },
  {
   "cell_type": "code",
   "execution_count": 15,
   "id": "martial-stanford",
   "metadata": {},
   "outputs": [
    {
     "data": {
      "text/plain": [
       "2"
      ]
     },
     "execution_count": 15,
     "metadata": {},
     "output_type": "execute_result"
    }
   ],
   "source": [
    "# grab image shape\n",
    "class_count = array.shape[0]\n",
    "img_shape_x = array.shape[1]\n",
    "img_shape_y = array.shape[2]\n",
    "class_count"
   ]
  },
  {
   "cell_type": "code",
   "execution_count": 16,
   "id": "collect-victoria",
   "metadata": {},
   "outputs": [],
   "source": [
    "# 20 distinct colours, if you have more than 20 classes you will have an issue...\n",
    "# from https://sashamaps.net/docs/resources/20-colors/\n",
    "colours = ['#e6194b', '#3cb44b', '#ffe119', '#4363d8', '#f58231', '#911eb4', '#46f0f0',\n",
    "           '#f032e6', '#bcf60c', '#fabebe', '#008080', '#e6beff', '#9a6324', '#fffac8',\n",
    "           '#800000', '#aaffc3', '#808000', '#ffd8b1', '#000075', '#808080', '#ffffff',\n",
    "           '#000000']"
   ]
  },
  {
   "cell_type": "code",
   "execution_count": 17,
   "id": "b689af2b",
   "metadata": {},
   "outputs": [
    {
     "data": {
      "text/plain": [
       "['#e6194b', '#3cb44b']"
      ]
     },
     "execution_count": 17,
     "metadata": {},
     "output_type": "execute_result"
    }
   ],
   "source": [
    "colours = colours[:class_count]\n",
    "colours"
   ]
  },
  {
   "cell_type": "code",
   "execution_count": 18,
   "id": "maritime-messaging",
   "metadata": {},
   "outputs": [],
   "source": [
    "# convert hex colours to RGB\n",
    "rgb_list = []\n",
    "for colour in colours:\n",
    "        \n",
    "    rgb_list.append(list(ImageColor.getcolor(colour, \"RGB\")))\n",
    "\n",
    "rgb_display = np.expand_dims(rgb_list,axis=0).astype('uint8')"
   ]
  },
  {
   "cell_type": "code",
   "execution_count": 19,
   "id": "cardiovascular-taxation",
   "metadata": {},
   "outputs": [
    {
     "data": {
      "text/plain": [
       "'/home/nick/Documents/Work code/gimp_segmentation_plugin/sample data/Palette.txt'"
      ]
     },
     "execution_count": 19,
     "metadata": {},
     "output_type": "execute_result"
    }
   ],
   "source": [
    "# exprot palette file for gimp\n",
    "export_path = os.path.join(base_dir,'Palette.txt')\n",
    "np.savetxt(export_path, np.array(rgb_display[0],dtype=object), fmt='%s')\n",
    "export_path"
   ]
  },
  {
   "cell_type": "code",
   "execution_count": 20,
   "id": "operating-utilization",
   "metadata": {},
   "outputs": [
    {
     "name": "stdout",
     "output_type": "stream",
     "text": [
      "[[230, 25, 75], [60, 180, 75]]\n"
     ]
    },
    {
     "data": {
      "text/plain": [
       "<matplotlib.image.AxesImage at 0x7fb357625e20>"
      ]
     },
     "execution_count": 20,
     "metadata": {},
     "output_type": "execute_result"
    },
    {
     "data": {
      "image/png": "[encoded data removed]",
      "text/plain": [
       "<Figure size 432x288 with 1 Axes>"
      ]
     },
     "metadata": {
      "needs_background": "light"
     },
     "output_type": "display_data"
    }
   ],
   "source": [
    "# these are the colours we will use\n",
    "print(rgb_list)\n",
    "io.imshow(rgb_display)"
   ]
  },
  {
   "cell_type": "code",
   "execution_count": 21,
   "id": "forty-ranking",
   "metadata": {},
   "outputs": [],
   "source": [
    "# grab list of masks\n",
    "mask_list = glob.glob(mask_dir+'/*')\n",
    "# loop over each mask\n",
    "for file in mask_list:  \n",
    "#     make save path for colour image\n",
    "    file_name = os.path.basename(file)\n",
    "    save_path = os.path.join(colour_mask_dir,file_name)\n",
    "#     open mask with rasterio\n",
    "    src = rasterio.open(file)\n",
    "#     grab a copy of the metadata\n",
    "    meta_copy = src.meta\n",
    "#     grab array\n",
    "    array = src.read()\n",
    "#     make empty image of correct size and 3 bands\n",
    "    three_band_image = np.zeros([3,img_shape_x,img_shape_y], dtype='uint8')\n",
    "#     loop over each band\n",
    "    for band in range(0,3):\n",
    "#         loop over each class\n",
    "        for int_class in range(0,class_count):\n",
    "#         get the RGB value for this channel and class\n",
    "            reclas_colour = rgb_list[int_class][band]\n",
    "#         pretty much doing a reclass from the mask to GRB\n",
    "            three_band_image[band][np.where(array[0] == int_class )] = reclas_colour\n",
    "#     edit metadata\n",
    "    meta_copy['count'] = 3\n",
    "    meta_copy['dtype'] = 'uint8'\n",
    "#     save file out\n",
    "    with rasterio.open(save_path, 'w', **meta_copy) as dst:\n",
    "            dst.write(three_band_image)"
   ]
  },
  {
   "cell_type": "code",
   "execution_count": null,
   "id": "guided-complement",
   "metadata": {},
   "outputs": [],
   "source": []
  }
 ],
 "metadata": {
  "kernelspec": {
   "display_name": "Python 3",
   "language": "python",
   "name": "python3"
  },
  "language_info": {
   "codemirror_mode": {
    "name": "ipython",
    "version": 3
   },
   "file_extension": ".py",
   "mimetype": "text/x-python",
   "name": "python",
   "nbconvert_exporter": "python",
   "pygments_lexer": "ipython3",
   "version": "3.8.8"
  }
 },
 "nbformat": 4,
 "nbformat_minor": 5
}
