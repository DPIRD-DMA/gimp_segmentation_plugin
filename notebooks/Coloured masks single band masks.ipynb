{
 "cells": [
  {
   "cell_type": "code",
   "execution_count": 7,
   "id": "93f8e8eb",
   "metadata": {},
   "outputs": [],
   "source": [
    "import os\n",
    "import glob\n",
    "import numpy as np\n",
    "import rasterio\n",
    "from tqdm.auto import tqdm\n",
    "from pathlib import Path"
   ]
  },
  {
   "cell_type": "code",
   "execution_count": 8,
   "id": "3aed4e79",
   "metadata": {},
   "outputs": [
    {
     "data": {
      "text/plain": [
       "15"
      ]
     },
     "execution_count": 8,
     "metadata": {},
     "output_type": "execute_result"
    }
   ],
   "source": [
    "base_dir = '/home/nick/Documents/Work code/gimp_segmentation_plugin/sample data'\n",
    "\n",
    "# this is used to georeference the masks files as it was lossed in GIMP\n",
    "model_output_folder = 'model output'\n",
    "image_dir = os.path.join(base_dir,model_output_folder)\n",
    "\n",
    "# this is the folder with the masks edited in GIMP\n",
    "colour_mask_folder = 'colour mask'\n",
    "colour_mask_dir = os.path.join(base_dir,colour_mask_folder)\n",
    "\n",
    "# this is the output folder\n",
    "signle_band_masks_folder = 'edited masks' \n",
    "signle_band_masks_dir = os.path.join(base_dir,signle_band_masks_folder)\n",
    "Path(signle_band_masks_dir).mkdir(parents=True, exist_ok=True)\n",
    "\n",
    "model_output_files = glob.glob(image_dir+'/*tif')\n",
    "len(model_output_files)"
   ]
  },
  {
   "cell_type": "code",
   "execution_count": 9,
   "id": "e9b801d5",
   "metadata": {},
   "outputs": [],
   "source": [
    "# georeference colour masks\n",
    "for file in model_output_files:\n",
    "    file_name = os.path.basename(file)\n",
    "#     open model oputput with rasterio\n",
    "    src = rasterio.open(file)\n",
    "#     find corresponding colour mask\n",
    "    matched_colour_mask = os.path.join(colour_mask_dir,file_name)\n",
    "#     open colour mask\n",
    "    src_colour = rasterio.open(matched_colour_mask)\n",
    "#     grab the colour mask array\n",
    "    array = src_colour.read()\n",
    "#     grab a copy of the model oputput metadata\n",
    "    meta_copy = src.meta\n",
    "#     change band count \n",
    "    meta_copy['count'] = 3\n",
    "#     export file with georeference\n",
    "    with rasterio.open(matched_colour_mask, 'w', **meta_copy) as dst:\n",
    "            dst.write(array)"
   ]
  },
  {
   "cell_type": "code",
   "execution_count": 10,
   "id": "c825068a",
   "metadata": {},
   "outputs": [
    {
     "data": {
      "text/plain": [
       "array([[230,  25,  75],\n",
       "       [ 60, 180,  75]])"
      ]
     },
     "execution_count": 10,
     "metadata": {},
     "output_type": "execute_result"
    }
   ],
   "source": [
    "# open palette file and read colours\n",
    "rgb_colours = np.loadtxt(os.path.join(base_dir,'Palette.txt')).astype(int)\n",
    "rgb_colours"
   ]
  },
  {
   "cell_type": "code",
   "execution_count": 11,
   "id": "0bd6bc44",
   "metadata": {},
   "outputs": [
    {
     "data": {
      "text/plain": [
       "15"
      ]
     },
     "execution_count": 11,
     "metadata": {},
     "output_type": "execute_result"
    }
   ],
   "source": [
    "# get list of colour mask images\n",
    "colour_mask_files = glob.glob(colour_mask_dir+'/*')\n",
    "len(colour_mask_files)"
   ]
  },
  {
   "cell_type": "code",
   "execution_count": 12,
   "id": "d363e557",
   "metadata": {},
   "outputs": [
    {
     "data": {
      "application/vnd.jupyter.widget-view+json": {
       "model_id": "98e4c1a5c9d047e3ac6b11407289f212",
       "version_major": 2,
       "version_minor": 0
      },
      "text/plain": [
       "  0%|          | 0/15 [00:00<?, ?it/s]"
      ]
     },
     "metadata": {},
     "output_type": "display_data"
    }
   ],
   "source": [
    "# convert colour masks into single band masks\n",
    "for colour_mask in tqdm(colour_mask_files):\n",
    "    file_name = os.path.basename(colour_mask)\n",
    "    export_path = os.path.join(signle_band_masks_dir,file_name)\n",
    "#     open colour mask with rasterio\n",
    "    colour_mask_src = rasterio.open(colour_mask)\n",
    "    \n",
    "    image = colour_mask_src.read()\n",
    "#     move axis arround so we can use np.all\n",
    "    image = np.moveaxis(image, 0, -1)\n",
    "    for colour_numb in range(0,len(rgb_colours)):\n",
    "        \n",
    "        image[np.all(image == rgb_colours[colour_numb], axis=-1)] = (colour_numb,colour_numb,colour_numb)\n",
    "#     move axis back to rasterio expects and grab first band\n",
    "    image = np.moveaxis(image, 2, 0)[0]\n",
    "#     expands dims for rasterio\n",
    "    image = np.expand_dims(image, axis=0)\n",
    "#     edit metadata\n",
    "    meta_copy = colour_mask_src.meta\n",
    "    meta_copy['count'] = 1\n",
    "    meta_copy['dtype'] = 'uint8'\n",
    "#     save it out\n",
    "    with rasterio.open(export_path, 'w', **meta_copy) as dst:\n",
    "            dst.write(image)"
   ]
  },
  {
   "cell_type": "code",
   "execution_count": null,
   "id": "42697484",
   "metadata": {},
   "outputs": [],
   "source": []
  },
  {
   "cell_type": "code",
   "execution_count": null,
   "id": "c70860e9",
   "metadata": {},
   "outputs": [],
   "source": []
  }
 ],
 "metadata": {
  "kernelspec": {
   "display_name": "Python 3",
   "language": "python",
   "name": "python3"
  },
  "language_info": {
   "codemirror_mode": {
    "name": "ipython",
    "version": 3
   },
   "file_extension": ".py",
   "mimetype": "text/x-python",
   "name": "python",
   "nbconvert_exporter": "python",
   "pygments_lexer": "ipython3",
   "version": "3.8.8"
  }
 },
 "nbformat": 4,
 "nbformat_minor": 5
}
