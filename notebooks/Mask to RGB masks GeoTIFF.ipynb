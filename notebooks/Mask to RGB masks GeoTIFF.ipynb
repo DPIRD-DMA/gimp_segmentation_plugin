{
 "cells": [
  {
   "cell_type": "markdown",
   "id": "alleged-banner",
   "metadata": {},
   "source": [
    "This script will convert single channel masks images into RGB masks for easy visualization in GIMP"
   ]
  },
  {
   "cell_type": "code",
   "execution_count": null,
   "id": "alpine-mouth",
   "metadata": {},
   "outputs": [],
   "source": [
    "import os\n",
    "import glob\n",
    "import numpy as np\n",
    "import rasterio\n",
    "from tqdm.auto import tqdm\n",
    "from pathlib import Path\n",
    "import matplotlib.pyplot as plt"
   ]
  },
  {
   "cell_type": "code",
   "execution_count": 31,
   "id": "8525dc1e",
   "metadata": {},
   "outputs": [
    {
     "name": "stdout",
     "output_type": "stream",
     "text": [
      "True\n"
     ]
    },
    {
     "data": {
      "text/plain": [
       "15"
      ]
     },
     "execution_count": 31,
     "metadata": {},
     "output_type": "execute_result"
    }
   ],
   "source": [
    "base_dir = '/Users/nicholaswright/Documents/gimp_segmentation_plugin/sample data'\n",
    "\n",
    "# this folder will contain single band mask files\n",
    "mask_folder = 'model output single channel'\n",
    "mask_dir = os.path.join(base_dir,mask_folder)\n",
    "print(os.path.isdir(mask_dir))\n",
    "\n",
    "# this folder will contain full colour mask files\n",
    "full_colour_mask_folder = 'colour mask'\n",
    "colour_mask_dir = os.path.join(base_dir,full_colour_mask_folder)\n",
    "Path(colour_mask_dir).mkdir(parents=True, exist_ok=True)\n",
    "\n",
    "files = glob.glob(mask_dir+'/*')\n",
    "len(files)"
   ]
  },
  {
   "cell_type": "code",
   "execution_count": 61,
   "id": "allied-carter",
   "metadata": {},
   "outputs": [
    {
     "data": {
      "text/plain": [
       "['Void', 'Road']"
      ]
     },
     "execution_count": 61,
     "metadata": {},
     "output_type": "execute_result"
    }
   ],
   "source": [
    "classes_file = os.path.join(base_dir,'codes.txt')\n",
    "class_names = np.loadtxt(classes_file, dtype=np.str).tolist()\n",
    "# or enter them manualy like this\n",
    "# class_names = [\"Void\",\"Road\"]\n",
    "class_names\n"
   ]
  },
  {
   "cell_type": "code",
   "execution_count": 62,
   "id": "martial-stanford",
   "metadata": {},
   "outputs": [],
   "source": [
    "# class_count = len(class_names)"
   ]
  },
  {
   "cell_type": "code",
   "execution_count": 63,
   "id": "collect-victoria",
   "metadata": {},
   "outputs": [],
   "source": [
    "# 20 distinct colours, if you have more than 20 classes you will have an issue...\n",
    "# from https://sashamaps.net/docs/resources/20-colors/\n",
    "colour_list = [[230,  25,  75],[ 60, 180,  75],[255, 225,  25],[ 67,  99, 216],[245, 130,  49],\n",
    "                [145,  30, 180],[ 70, 240, 240],[240,  50, 230],[188, 246,  12],[250, 190, 190],\n",
    "                [  0, 128, 128],[230, 190, 255],[154,  99,  36],[255, 250, 200],[128,   0,   0],\n",
    "                [170, 255, 195],[128, 128,   0],[255, 216, 177],[  0,   0, 117],[128, 128, 128],\n",
    "                [255, 255, 255],[  0,   0,   0]]"
   ]
  },
  {
   "cell_type": "code",
   "execution_count": 87,
   "id": "lightweight-walker",
   "metadata": {},
   "outputs": [],
   "source": [
    "names_and_colours = []\n",
    "for class_name in class_names:\n",
    "    colour = colour_list[class_names.index(class_name)]\n",
    "    names_and_colours.append(class_name+\"_\"+str(colour))"
   ]
  },
  {
   "cell_type": "code",
   "execution_count": 88,
   "id": "comfortable-prevention",
   "metadata": {},
   "outputs": [
    {
     "data": {
      "text/plain": [
       "['Void_[230, 25, 75]', 'Road_[60, 180, 75]']"
      ]
     },
     "execution_count": 88,
     "metadata": {},
     "output_type": "execute_result"
    }
   ],
   "source": [
    "names_and_colours"
   ]
  },
  {
   "cell_type": "code",
   "execution_count": 90,
   "id": "cardiovascular-taxation",
   "metadata": {},
   "outputs": [
    {
     "data": {
      "text/plain": [
       "'/Users/nicholaswright/Documents/gimp_segmentation_plugin/sample data/Palette.txt'"
      ]
     },
     "execution_count": 90,
     "metadata": {},
     "output_type": "execute_result"
    }
   ],
   "source": [
    "# exprot palette file for gimp\n",
    "export_path = os.path.join(base_dir,'Palette.txt')\n",
    "np.savetxt(export_path, np.array(names_and_colours,dtype=object), fmt='%s')\n",
    "export_path"
   ]
  },
  {
   "cell_type": "code",
   "execution_count": 38,
   "id": "operating-utilization",
   "metadata": {},
   "outputs": [
    {
     "data": {
      "image/png": "[encoded data removed]",
      "text/plain": [
       "<Figure size 432x288 with 1 Axes>"
      ]
     },
     "metadata": {
      "needs_background": "light"
     },
     "output_type": "display_data"
    }
   ],
   "source": [
    "# these are the colours we will use\n",
    "plt.imshow(np.array([rgb_display]))\n",
    "plt.show()"
   ]
  },
  {
   "cell_type": "code",
   "execution_count": 39,
   "id": "forty-ranking",
   "metadata": {},
   "outputs": [],
   "source": [
    "# grab list of masks\n",
    "mask_list = glob.glob(mask_dir+'/*')\n",
    "# loop over each mask\n",
    "for file in mask_list:  \n",
    "#     make save path for colour image\n",
    "    file_name = os.path.basename(file)\n",
    "    save_path = os.path.join(colour_mask_dir,file_name)\n",
    "#     open mask with rasterio\n",
    "    src = rasterio.open(file)\n",
    "#     grab a copy of the metadata\n",
    "    meta_copy = src.meta\n",
    "#     grab array\n",
    "    array = src.read()\n",
    "#     make empty image of correct size and 3 bands\n",
    "    three_band_image = np.zeros([3,array.shape[1],array.shape[2]], dtype='uint8')\n",
    "#     loop over each band\n",
    "    for band in range(0,3):\n",
    "#         loop over each class\n",
    "        for int_class in range(0,len(class_names)):\n",
    "#         get the RGB value for this channel and class\n",
    "            reclas_colour = rgb_display[int_class][band]\n",
    "#         pretty much doing a reclass from the mask to GRB\n",
    "            three_band_image[band][np.where(array[0] == int_class )] = reclas_colour\n",
    "#     edit metadata\n",
    "    meta_copy['count'] = 3\n",
    "    meta_copy['dtype'] = 'uint8'\n",
    "#     save file out\n",
    "    with rasterio.open(save_path, 'w', **meta_copy) as dst:\n",
    "            dst.write(three_band_image)"
   ]
  },
  {
   "cell_type": "code",
   "execution_count": null,
   "id": "severe-absolute",
   "metadata": {},
   "outputs": [],
   "source": []
  }
 ],
 "metadata": {
  "kernelspec": {
   "display_name": "Python 3",
   "language": "python",
   "name": "python3"
  },
  "language_info": {
   "codemirror_mode": {
    "name": "ipython",
    "version": 3
   },
   "file_extension": ".py",
   "mimetype": "text/x-python",
   "name": "python",
   "nbconvert_exporter": "python",
   "pygments_lexer": "ipython3",
   "version": "3.7.0"
  }
 },
 "nbformat": 4,
 "nbformat_minor": 5
}
