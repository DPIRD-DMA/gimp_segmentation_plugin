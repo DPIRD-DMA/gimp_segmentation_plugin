{
 "cells": [
  {
   "cell_type": "code",
   "execution_count": 5,
   "id": "6c5ee7a3",
   "metadata": {},
   "outputs": [],
   "source": [
    "import os\n",
    "import glob\n",
    "import numpy as np\n",
    "import rasterio\n",
    "from tqdm.auto import tqdm\n",
    "from pathlib import Path\n",
    "import matplotlib.pyplot as plt"
   ]
  },
  {
   "cell_type": "code",
   "execution_count": 8,
   "id": "8525dc1e",
   "metadata": {},
   "outputs": [
    {
     "name": "stdout",
     "output_type": "stream",
     "text": [
      "True\n"
     ]
    },
    {
     "data": {
      "text/plain": [
       "15"
      ]
     },
     "execution_count": 8,
     "metadata": {},
     "output_type": "execute_result"
    }
   ],
   "source": [
    "base_dir = '/Users/nicholaswright/Documents/gimp_segmentation_plugin/sample data'\n",
    "# this is the raw multi channel/band output from your model\n",
    "model_output_folder = 'model output multi channel'\n",
    "model_output_dir = os.path.join(base_dir,model_output_folder)\n",
    "print(os.path.isdir(model_output_dir))\n",
    "\n",
    "# this folder will contain single band mask files\n",
    "single_channel_folder = 'model output single channel'\n",
    "single_channel_dir = os.path.join(base_dir,single_channel_folder)\n",
    "Path(single_channel_dir).mkdir(parents=True, exist_ok=True)\n",
    "\n",
    "files = glob.glob(model_output_dir+'/*')\n",
    "len(files)"
   ]
  },
  {
   "cell_type": "code",
   "execution_count": 7,
   "id": "98a93d7a",
   "metadata": {},
   "outputs": [
    {
     "data": {
      "application/vnd.jupyter.widget-view+json": {
       "model_id": "bada05b965fb443d9ae89ed5d0ddef94",
       "version_major": 2,
       "version_minor": 0
      },
      "text/plain": [
       "  0%|          | 0/15 [00:00<?, ?it/s]"
      ]
     },
     "metadata": {},
     "output_type": "display_data"
    }
   ],
   "source": [
    "for file in tqdm(files):\n",
    "#     make save path\n",
    "    file_name = os.path.basename(file)\n",
    "    save_path = os.path.join(single_channel_dir,file_name)\n",
    "#     open mask with rasterio\n",
    "    src = rasterio.open(file)\n",
    "#     grab a copy of the metadata\n",
    "    meta_copy = src.meta\n",
    "#     grab array\n",
    "    array = src.read()\n",
    "#     get the layer index for the highest value for each pixel\n",
    "    one_band = np.argmax(array,axis=0)\n",
    "#     expand bands for rasterio\n",
    "    one_band_exp = np.expand_dims(one_band,axis=0).astype('uint8')\n",
    "#     edit metadata\n",
    "    meta_copy['count'] = 1\n",
    "    meta_copy['dtype'] = 'uint8'\n",
    "#     save file out\n",
    "    with rasterio.open(save_path, 'w', **meta_copy) as dst:\n",
    "            dst.write(one_band_exp)\n",
    "    \n",
    "    "
   ]
  },
  {
   "cell_type": "code",
   "execution_count": null,
   "id": "filled-embassy",
   "metadata": {},
   "outputs": [],
   "source": []
  }
 ],
 "metadata": {
  "kernelspec": {
   "display_name": "Python 3",
   "language": "python",
   "name": "python3"
  },
  "language_info": {
   "codemirror_mode": {
    "name": "ipython",
    "version": 3
   },
   "file_extension": ".py",
   "mimetype": "text/x-python",
   "name": "python",
   "nbconvert_exporter": "python",
   "pygments_lexer": "ipython3",
   "version": "3.7.0"
  }
 },
 "nbformat": 4,
 "nbformat_minor": 5
}
