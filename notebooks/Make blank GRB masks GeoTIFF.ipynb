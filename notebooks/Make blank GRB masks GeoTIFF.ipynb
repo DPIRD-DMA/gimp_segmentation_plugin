{
 "cells": [
  {
   "cell_type": "markdown",
   "id": "downtown-floating",
   "metadata": {},
   "source": [
    "This script makes blank RGB maks files and a palette file for GIMP\n",
    "use this is you dont have any mask data"
   ]
  },
  {
   "cell_type": "code",
   "execution_count": null,
   "id": "centered-track",
   "metadata": {},
   "outputs": [],
   "source": [
    "import os\n",
    "import glob\n",
    "import numpy as np\n",
    "import rasterio\n",
    "from tqdm.auto import tqdm\n",
    "from pathlib import Path\n",
    "import matplotlib.pyplot as plt"
   ]
  },
  {
   "cell_type": "code",
   "execution_count": 35,
   "id": "certified-burlington",
   "metadata": {},
   "outputs": [
    {
     "data": {
      "text/plain": [
       "15"
      ]
     },
     "execution_count": 35,
     "metadata": {},
     "output_type": "execute_result"
    }
   ],
   "source": [
    "base_dir = '/Users/nicholaswright/Documents/gimp_segmentation_plugin/sample data'\n",
    "\n",
    "# this folder should contain your image files\n",
    "image_dir = os.path.join(base_dir,'image')\n",
    "\n",
    "# this folder will contain full colour mask files\n",
    "full_colour_mask_folder = 'RGB mask empty'\n",
    "colour_mask_dir = os.path.join(base_dir,full_colour_mask_folder)\n",
    "Path(colour_mask_dir).mkdir(parents=True, exist_ok=True)\n",
    "\n",
    "files = glob.glob(image_dir+'/*')\n",
    "len(files)"
   ]
  },
  {
   "cell_type": "code",
   "execution_count": 36,
   "id": "quick-apparatus",
   "metadata": {},
   "outputs": [],
   "source": [
    "# how many classes do you want? we need this to create the GIMP palette file\n",
    "classes = 4"
   ]
  },
  {
   "cell_type": "code",
   "execution_count": 37,
   "id": "distant-cornell",
   "metadata": {},
   "outputs": [],
   "source": [
    "rgb_display = [[230,  25,  75],[ 60, 180,  75],[255, 225,  25],[ 67,  99, 216],[245, 130,  49],\n",
    "                [145,  30, 180],[ 70, 240, 240],[240,  50, 230],[188, 246,  12],[250, 190, 190],\n",
    "                [  0, 128, 128],[230, 190, 255],[154,  99,  36],[255, 250, 200],[128,   0,   0],\n",
    "                [170, 255, 195],[128, 128,   0],[255, 216, 177],[  0,   0, 117],[128, 128, 128],\n",
    "                [255, 255, 255],[  0,   0,   0]]"
   ]
  },
  {
   "cell_type": "code",
   "execution_count": 38,
   "id": "acknowledged-measure",
   "metadata": {},
   "outputs": [
    {
     "data": {
      "text/plain": [
       "[[230, 25, 75], [60, 180, 75], [255, 225, 25], [67, 99, 216]]"
      ]
     },
     "execution_count": 38,
     "metadata": {},
     "output_type": "execute_result"
    }
   ],
   "source": [
    "rgb_display = rgb_display[0:classes]\n",
    "rgb_display"
   ]
  },
  {
   "cell_type": "code",
   "execution_count": 39,
   "id": "embedded-respect",
   "metadata": {},
   "outputs": [
    {
     "data": {
      "image/png": "[encoded data removed]",
      "text/plain": [
       "<Figure size 432x288 with 1 Axes>"
      ]
     },
     "metadata": {
      "needs_background": "light"
     },
     "output_type": "display_data"
    }
   ],
   "source": [
    "# these are the colours we will use\n",
    "plt.imshow(np.array([rgb_display]))\n",
    "plt.show()"
   ]
  },
  {
   "cell_type": "code",
   "execution_count": 40,
   "id": "lightweight-verification",
   "metadata": {},
   "outputs": [
    {
     "data": {
      "text/plain": [
       "'/Users/nicholaswright/Documents/gimp_segmentation_plugin/sample data/Palette.txt'"
      ]
     },
     "execution_count": 40,
     "metadata": {},
     "output_type": "execute_result"
    }
   ],
   "source": [
    "# exprot palette file for gimp\n",
    "export_path = os.path.join(base_dir,'Palette.txt')\n",
    "np.savetxt(export_path, np.array(rgb_display,dtype=object), fmt='%s')\n",
    "export_path"
   ]
  },
  {
   "cell_type": "code",
   "execution_count": 42,
   "id": "unique-taiwan",
   "metadata": {},
   "outputs": [
    {
     "name": "stderr",
     "output_type": "stream",
     "text": [
      "/opt/anaconda3/envs/gispy37/lib/python3.7/site-packages/rasterio/__init__.py:160: FutureWarning: GDAL-style transforms are deprecated and will not be supported in Rasterio 1.0.\n",
      "  transform = guard_transform(transform)\n"
     ]
    }
   ],
   "source": [
    "for image in tqdm(files):\n",
    "    file_name = os.path.basename(image)\n",
    "    export_path = os.path.join(colour_mask_dir,file_name)\n",
    "    image_open = rasterio.open(image)\n",
    "    meta = image_open.meta\n",
    "    array = image_open.read()\n",
    "    array = np.moveaxis(array, 0, -1)\n",
    "    filled = np.full_like(array, rgb_display[0])\n",
    "    filled = np.moveaxis(filled, 2, 0)\n",
    "    with rasterio.open(export_path, 'w', **meta) as dst:\n",
    "            dst.write(filled)\n",
    "    "
   ]
  }
 ],
 "metadata": {
  "kernelspec": {
   "display_name": "Python 3",
   "language": "python",
   "name": "python3"
  },
  "language_info": {
   "codemirror_mode": {
    "name": "ipython",
    "version": 3
   },
   "file_extension": ".py",
   "mimetype": "text/x-python",
   "name": "python",
   "nbconvert_exporter": "python",
   "pygments_lexer": "ipython3",
   "version": "3.7.0"
  }
 },
 "nbformat": 4,
 "nbformat_minor": 5
}
